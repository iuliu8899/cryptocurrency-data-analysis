{
 "cells": [
  {
   "cell_type": "markdown",
   "metadata": {},
   "source": [
    "# Cryptocurrency"
   ]
  },
  {
   "cell_type": "code",
   "execution_count": 129,
   "metadata": {
    "scrolled": true
   },
   "outputs": [],
   "source": [
    "import pandas"
   ]
  },
  {
   "cell_type": "markdown",
   "metadata": {},
   "source": [
    "## read files"
   ]
  },
  {
   "cell_type": "code",
   "execution_count": 131,
   "metadata": {},
   "outputs": [],
   "source": [
    "inputs = pandas.read_csv('inputs.csv', header=None)\n",
    "outputs = pandas.read_csv('outputs.csv', header=None)\n",
    "tags = pandas.read_csv('tags.csv')\n",
    "transactions = pandas.read_csv('transactions.csv', header=None)\n",
    "\n",
    "inputs.columns = [\"id\", \"tx_id\", \"sig_id\", \"output_id\"]\n",
    "outputs.columns = [\"id\", \"tx_id\", \"pk_id\", \"value\"]\n",
    "tags.columns = [\"type\", \"service\", \"pk_id\"]\n",
    "transactions.columns = ['id', \"block_id\"]\n",
    "inputs.set_index('id')\n",
    "outputs.set_index('id')\n",
    "tags.set_index('pk_id')\n",
    "transactions.set_index('id');"
   ]
  },
  {
   "cell_type": "markdown",
   "metadata": {},
   "source": [
    "## 1\n",
    "### 1.1"
   ]
  },
  {
   "cell_type": "code",
   "execution_count": 162,
   "metadata": {},
   "outputs": [],
   "source": [
    "def answer_1_1():\n",
    "    print (\"------------------- 1.1 -------------------\")\n",
    "    print (\"How many transactions were there in total?\")\n",
    "    print (len(transactions['id'].unique()))\n",
    "\n",
    "    print (\"Of these, how many transactions had one input and two outputs?\")\n",
    "    i = 0 # 1 input 2 output\n",
    "    j = 0 # 1 input 1 output\n",
    "    count_outputs = outputs['tx_id'].value_counts()\n",
    "    count_inputs = inputs['tx_id'].value_counts()\n",
    "    count_outputs_1 = count_outputs[count_outputs == 1]\n",
    "    count_outputs_2 = count_outputs[count_outputs == 2]\n",
    "    count_inputs_1 = count_inputs[count_inputs == 1]\n",
    "    print (len(count_outputs_2[count_outputs_2.index.isin(count_inputs_1.index)]))\n",
    "\n",
    "    print (\"How many transactions had one input and one output?\")\n",
    "    print (len(count_outputs_1[count_outputs_1.index.isin(count_inputs_1.index)]))"
   ]
  },
  {
   "cell_type": "code",
   "execution_count": 163,
   "metadata": {
    "scrolled": true
   },
   "outputs": [
    {
     "name": "stdout",
     "output_type": "stream",
     "text": [
      "------------------- 1.1 -------------------\n",
      "How many transactions were there in total?\n",
      "216626\n",
      "Of these, how many transactions had one input and two outputs?\n",
      "44898\n",
      "How many transactions had one input and one output?\n",
      "160780\n"
     ]
    }
   ],
   "source": [
    "answer_1_1()"
   ]
  },
  {
   "cell_type": "markdown",
   "metadata": {},
   "source": [
    "### 1.2"
   ]
  },
  {
   "cell_type": "code",
   "execution_count": null,
   "metadata": {},
   "outputs": [],
   "source": []
  },
  {
   "cell_type": "markdown",
   "metadata": {},
   "source": [
    "### 1.3"
   ]
  },
  {
   "cell_type": "code",
   "execution_count": 127,
   "metadata": {},
   "outputs": [],
   "source": [
    "def answer_1_3():\n",
    "    print (\"------------------- 1.3 -------------------\")\n",
    "    print (\"How many distinct public keys were used across all blocks in the dataset?\")\n",
    "    #pk_ids = pandas.concat([outputs['pk_id'], tags['pk_id']], axis=0, ignore_index=True).unique()\n",
    "    print (len(outputs['pk_id'].unique())) #174702\n",
    "\n",
    "    print (\"Which public key received the highest number of bitcoins, and how many bitcoins has it received?\")\n",
    "    temp = outputs\n",
    "    temp = temp.groupby('pk_id')['value'].sum()\n",
    "    print(temp.idxmax(), temp.max())\n",
    "    \n",
    "    print (\"Which public key acted as an output the most number of times, and how many times did it act as output?\")\n",
    "    count_pk = outputs['pk_id'].value_counts()\n",
    "    print (count_pk.idxmax(), count_pk.max())"
   ]
  },
  {
   "cell_type": "code",
   "execution_count": 128,
   "metadata": {
    "scrolled": true
   },
   "outputs": [
    {
     "name": "stdout",
     "output_type": "stream",
     "text": [
      "------------------- 1.3 -------------------\n",
      "How many distinct public keys were used across all blocks in the dataset?\n",
      "174702\n",
      "Which public key received the highest number of bitcoins, and how many bitcoins has it received?\n",
      "148105 27375023000000\n",
      "Which public key acted as an output the most number of times, and how many times did it act as output?\n",
      "148105 5498\n"
     ]
    }
   ],
   "source": [
    "answer_1_3()"
   ]
  },
  {
   "cell_type": "code",
   "execution_count": 92,
   "metadata": {},
   "outputs": [],
   "source": [
    "# outputs.loc[outputs['pk_id']==148105]"
   ]
  },
  {
   "cell_type": "markdown",
   "metadata": {},
   "source": [
    "### 1.4"
   ]
  },
  {
   "cell_type": "code",
   "execution_count": null,
   "metadata": {},
   "outputs": [],
   "source": []
  },
  {
   "cell_type": "code",
   "execution_count": null,
   "metadata": {},
   "outputs": [],
   "source": []
  }
 ],
 "metadata": {
  "kernelspec": {
   "display_name": "Python 3",
   "language": "python",
   "name": "python3"
  },
  "language_info": {
   "codemirror_mode": {
    "name": "ipython",
    "version": 3
   },
   "file_extension": ".py",
   "mimetype": "text/x-python",
   "name": "python",
   "nbconvert_exporter": "python",
   "pygments_lexer": "ipython3",
   "version": "3.7.1"
  }
 },
 "nbformat": 4,
 "nbformat_minor": 2
}
