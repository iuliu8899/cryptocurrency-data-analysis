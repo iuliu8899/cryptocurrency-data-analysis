{
 "cells": [
  {
   "cell_type": "markdown",
   "metadata": {},
   "source": [
    "# Cryptocurrency"
   ]
  },
  {
   "cell_type": "code",
   "execution_count": 1,
   "metadata": {
    "scrolled": true
   },
   "outputs": [],
   "source": [
    "import pandas"
   ]
  },
  {
   "cell_type": "markdown",
   "metadata": {},
   "source": [
    "## read files"
   ]
  },
  {
   "cell_type": "code",
   "execution_count": 2,
   "metadata": {},
   "outputs": [],
   "source": [
    "inputs = pandas.read_csv('inputs.csv', header=None)\n",
    "outputs = pandas.read_csv('outputs.csv', header=None)\n",
    "tags = pandas.read_csv('tags.csv')\n",
    "transactions = pandas.read_csv('transactions.csv', header=None)\n",
    "\n",
    "inputs.columns = [\"id\", \"tx_id\", \"sig_id\", \"output_id\"]\n",
    "outputs.columns = [\"id\", \"tx_id\", \"pk_id\", \"value\"]\n",
    "tags.columns = [\"type\", \"service\", \"pk_id\"]\n",
    "transactions.columns = ['id', \"block_id\"]"
   ]
  },
  {
   "cell_type": "markdown",
   "metadata": {},
   "source": [
    "## 1 Basic statistic\n",
    "### 1.1 Transactions"
   ]
  },
  {
   "cell_type": "code",
   "execution_count": 3,
   "metadata": {},
   "outputs": [],
   "source": [
    "def answer_1_1():\n",
    "    print (\"------------------- 1.1 -------------------\")\n",
    "    print (\"How many transactions were there in total?\")\n",
    "    print (len(transactions['id'].unique()))\n",
    "\n",
    "    print (\"Of these, how many transactions had one input and two outputs?\")\n",
    "    count_outputs = outputs['tx_id'].value_counts()\n",
    "    count_inputs = inputs['tx_id'].value_counts()\n",
    "    count_outputs_1 = count_outputs[count_outputs == 1]\n",
    "    count_outputs_2 = count_outputs[count_outputs == 2]\n",
    "    count_inputs_1 = count_inputs[count_inputs == 1]\n",
    "    print (len(count_outputs_2[count_outputs_2.index.isin(count_inputs_1.index)]))\n",
    "\n",
    "    print (\"How many transactions had one input and one output?\")\n",
    "    print (len(count_outputs_1[count_outputs_1.index.isin(count_inputs_1.index)]))"
   ]
  },
  {
   "cell_type": "code",
   "execution_count": 4,
   "metadata": {
    "scrolled": true
   },
   "outputs": [
    {
     "name": "stdout",
     "output_type": "stream",
     "text": [
      "------------------- 1.1 -------------------\n",
      "How many transactions were there in total?\n",
      "216626\n",
      "Of these, how many transactions had one input and two outputs?\n",
      "44898\n",
      "How many transactions had one input and one output?\n",
      "160780\n"
     ]
    }
   ],
   "source": [
    "answer_1_1()"
   ]
  },
  {
   "cell_type": "markdown",
   "metadata": {},
   "source": [
    "### 1.2 UTXOs"
   ]
  },
  {
   "cell_type": "code",
   "execution_count": 5,
   "metadata": {},
   "outputs": [],
   "source": [
    "def answer_1_2():\n",
    "    print (\"------------------- 1.2 -------------------\")\n",
    "    temp_outputs = outputs[['id','value']]\n",
    "    temp_inputs = inputs['output_id']\n",
    "    UTXO = temp_outputs[~temp_outputs['id'].isin(temp_inputs)].set_index('id')\n",
    "    print (\"How many UTXOs exist, as of the last block of the dataset?\")\n",
    "    print (len(UTXO))\n",
    "    print (\"Which UTXO has the highest associated value?\")\n",
    "    print (\"output id:\", UTXO.idxmax().value)\n",
    "    print (\"value:\", UTXO.max().value)"
   ]
  },
  {
   "cell_type": "code",
   "execution_count": 6,
   "metadata": {
    "scrolled": true
   },
   "outputs": [
    {
     "name": "stdout",
     "output_type": "stream",
     "text": [
      "------------------- 1.2 -------------------\n",
      "How many UTXOs exist, as of the last block of the dataset?\n",
      "71906\n",
      "Which UTXO has the highest associated value?\n",
      "output id: 170430\n",
      "value: 9000000000000\n"
     ]
    }
   ],
   "source": [
    "answer_1_2()"
   ]
  },
  {
   "cell_type": "markdown",
   "metadata": {},
   "source": [
    "### 1.3 Public keys"
   ]
  },
  {
   "cell_type": "code",
   "execution_count": 7,
   "metadata": {},
   "outputs": [],
   "source": [
    "def answer_1_3():\n",
    "    print (\"------------------- 1.3 -------------------\")\n",
    "    print (\"How many distinct public keys were used across all blocks in the dataset?\")\n",
    "    #pk_ids = pandas.concat([outputs['pk_id'], tags['pk_id']], axis=0, ignore_index=True).unique()\n",
    "    print (len(outputs['pk_id'].unique())) #174702\n",
    "\n",
    "    print (\"Which public key received the highest number of bitcoins, and how many bitcoins has it received?\")\n",
    "    temp = outputs\n",
    "    temp = temp.groupby('pk_id')['value'].sum()\n",
    "    print(\"pk:\", temp.idxmax(), \"value:\", temp.max())\n",
    "    \n",
    "    print (\"Which public key acted as an output the most number of times, and how many times did it act as output?\")\n",
    "    count_pk = outputs['pk_id'].value_counts()\n",
    "    print (\"pk:\", count_pk.idxmax(), \"value:\", count_pk.max())"
   ]
  },
  {
   "cell_type": "code",
   "execution_count": 8,
   "metadata": {
    "scrolled": true
   },
   "outputs": [
    {
     "name": "stdout",
     "output_type": "stream",
     "text": [
      "------------------- 1.3 -------------------\n",
      "How many distinct public keys were used across all blocks in the dataset?\n",
      "174702\n",
      "Which public key received the highest number of bitcoins, and how many bitcoins has it received?\n",
      "pk: 148105 value: 27375023000000\n",
      "Which public key acted as an output the most number of times, and how many times did it act as output?\n",
      "pk: 148105 value: 5498\n"
     ]
    }
   ],
   "source": [
    "answer_1_3()\n",
    "# outputs.loc[outputs['pk_id']==148105]"
   ]
  },
  {
   "cell_type": "markdown",
   "metadata": {},
   "source": [
    "### 1.4 Invalid transactions"
   ]
  },
  {
   "cell_type": "code",
   "execution_count": 9,
   "metadata": {},
   "outputs": [],
   "source": [
    "def answer_1_4():\n",
    "    print (\"------------------- 1.4 -------------------\")\n",
    "    ## double spend\n",
    "    temp_spend = inputs\n",
    "    temp_spend = temp_spend.loc[(temp_spend['output_id'].duplicated()) & (temp_spend['output_id'] != -1)]\n",
    "    i = 0\n",
    "    for _, row in temp_spend.iterrows():\n",
    "        i += 1\n",
    "        print (str(i)+\". double spend:\")\n",
    "        print (\"id:\", row.id, \"tx_id:\", row.tx_id, \"sig_id:\", row.sig_id, \"output_id:\", row.output_id)\n",
    "        print (\"spent in:\")\n",
    "        s = inputs.loc[(inputs['output_id'] == row.output_id) & (inputs['id'] != row.id)]\n",
    "        #print (\"id:\", s.id, \"tx_id:\", s.tx_id, \"sig_id:\", s.sig_id, \"output_id:\", s.output_id)\n",
    "        row = s.reset_index().loc[0]\n",
    "        print (\"id:\", row.id, \"tx_id:\", row.tx_id, \"sig_id:\", row.sig_id, \"output_id:\", row.output_id)\n",
    "        print (\"\")\n",
    "        \n",
    "    ## ouput > input\n",
    "    temp_input = inputs\n",
    "    temp_output = outputs\n",
    "    money_in = pandas.merge(temp_input[['tx_id','output_id']],temp_output[['id','value']],left_on='output_id',right_on='id')[['tx_id','value']]\n",
    "    money_in = money_in.groupby('tx_id')['value'].sum()\n",
    "    dict_money_in = {'tx_id':money_in.index,'money_in':money_in.values}\n",
    "    money_in = pandas.DataFrame(dict_money_in)\n",
    "    money_out = temp_output.groupby('tx_id')['value'].sum()\n",
    "    dict_money_out = {'tx_id':money_out.index,'money_out':money_out.values}\n",
    "    money_out = pandas.DataFrame(dict_money_out)\n",
    "    transactions = pandas.merge(money_in[['tx_id','money_in']], money_out[['tx_id','money_out']], on='tx_id')\n",
    "    invalid_tx = transactions.loc[(transactions['money_in']<transactions['money_out'])]\n",
    "    for _, row in invalid_tx.iterrows():\n",
    "        i += 1\n",
    "        print (str(i)+\". output > input:\")\n",
    "        print (\"tx_id:\", row.tx_id, \"money_in:\", row.money_in, \"money_out:\", row.money_out)\n",
    "        print (\"money_in:\")\n",
    "        j = 0\n",
    "        for _, row1 in inputs.loc[inputs['tx_id']==row.tx_id].iterrows():\n",
    "            for _, row2 in outputs.loc[outputs['id']==row1.output_id].iterrows():\n",
    "                j += 1\n",
    "                print (str(j)+\") input_id:\", row1.tx_id, \"UTXO_id:\", row1.output_id, \"owner_id:\", row1.sig_id, \"value:\",row2.value)\n",
    "        print (\"money_out:\")\n",
    "        j = 0\n",
    "        for _, row1 in outputs.loc[outputs['tx_id']==row.tx_id].iterrows():\n",
    "            j += 1\n",
    "            print (str(j)+\") output_id:\", row1.id, \"payee_id:\", row1.pk_id, \"value:\", row1.value)"
   ]
  },
  {
   "cell_type": "code",
   "execution_count": 10,
   "metadata": {},
   "outputs": [
    {
     "name": "stdout",
     "output_type": "stream",
     "text": [
      "------------------- 1.4 -------------------\n",
      "1. double spend:\n",
      "id: 12820 tx_id: 12152 sig_id: 7941 output_id: 7998\n",
      "spent in:\n",
      "id: 8666 tx_id: 8231 sig_id: 7941 output_id: 7998\n",
      "\n",
      "2. double spend:\n",
      "id: 33114 tx_id: 30446 sig_id: 21807 output_id: 21928\n",
      "spent in:\n",
      "id: 33113 tx_id: 30446 sig_id: 21807 output_id: 21928\n",
      "\n",
      "3. double spend:\n",
      "id: 76750 tx_id: 61845 sig_id: 138980 output_id: 65403\n",
      "spent in:\n",
      "id: 76747 tx_id: 61843 sig_id: 138980 output_id: 65403\n",
      "\n",
      "4. double spend:\n",
      "id: 279609 tx_id: 207365 sig_id: 163625 output_id: 249860\n",
      "spent in:\n",
      "id: 275614 tx_id: 204751 sig_id: 163625 output_id: 249860\n",
      "\n",
      "5. output > input:\n",
      "tx_id: 100929 money_in: 5000000000 money_out: 5000000010\n",
      "money_in:\n",
      "1) input_id: 100929 UTXO_id: 37553 owner_id: 37334 value: 5000000000\n",
      "money_out:\n",
      "1) output_id: 118119 payee_id: 60205 value: 2500000000\n",
      "2) output_id: 118120 payee_id: 142642 value: 2500000010\n"
     ]
    }
   ],
   "source": [
    "answer_1_4()"
   ]
  },
  {
   "cell_type": "markdown",
   "metadata": {},
   "source": [
    "## 2 Clustering\n",
    "### 2.1 Specific cluster"
   ]
  },
  {
   "cell_type": "code",
   "execution_count": null,
   "metadata": {},
   "outputs": [],
   "source": []
  }
 ],
 "metadata": {
  "kernelspec": {
   "display_name": "Python 3",
   "language": "python",
   "name": "python3"
  },
  "language_info": {
   "codemirror_mode": {
    "name": "ipython",
    "version": 3
   },
   "file_extension": ".py",
   "mimetype": "text/x-python",
   "name": "python",
   "nbconvert_exporter": "python",
   "pygments_lexer": "ipython3",
   "version": "3.7.1"
  }
 },
 "nbformat": 4,
 "nbformat_minor": 2
}
