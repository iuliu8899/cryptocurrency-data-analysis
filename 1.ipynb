{
 "cells": [
  {
   "cell_type": "markdown",
   "metadata": {},
   "source": [
    "# Cryptocurrency"
   ]
  },
  {
   "cell_type": "code",
   "execution_count": 3,
   "metadata": {
    "scrolled": true
   },
   "outputs": [],
   "source": [
    "import pandas"
   ]
  },
  {
   "cell_type": "markdown",
   "metadata": {},
   "source": [
    "## read files"
   ]
  },
  {
   "cell_type": "code",
   "execution_count": 86,
   "metadata": {},
   "outputs": [],
   "source": [
    "inputs = pandas.read_csv('inputs.csv', header=None)\n",
    "outputs = pandas.read_csv('outputs.csv', header=None)\n",
    "tags = pandas.read_csv('tags.csv')\n",
    "transactions = pandas.read_csv('transactions.csv', header=None)\n",
    "inputs.columns = [\"id\", \"tx_id\", \"sig_id\", \"output_id\"]\n",
    "outputs.columns = [\"id\", \"tx_id\", \"pk_id\", \"value\"]\n",
    "tags.columns = [\"type\", \"service\", \"pk_id\"]\n",
    "transactions.columns = ['id', \"block_id\"]"
   ]
  },
  {
   "cell_type": "markdown",
   "metadata": {},
   "source": [
    "## 1 Basic statistic\n",
    "### 1.1 Transactions"
   ]
  },
  {
   "cell_type": "code",
   "execution_count": 72,
   "metadata": {},
   "outputs": [],
   "source": [
    "def answer_1_1():\n",
    "    print (\"------------------- 1.1 -------------------\")\n",
    "    print (\"How many transactions were there in total?\")\n",
    "    print (len(transactions['id'].unique()))\n",
    "    print (\"Of these, how many transactions had one input and two outputs?\")\n",
    "    count_outputs = outputs['tx_id'].value_counts()\n",
    "    count_inputs = inputs['tx_id'].value_counts()\n",
    "    count_outputs_1 = count_outputs[count_outputs == 1]\n",
    "    count_outputs_2 = count_outputs[count_outputs == 2]\n",
    "    count_inputs_1 = count_inputs[count_inputs == 1]\n",
    "    print (len(count_outputs_2[count_outputs_2.index.isin(count_inputs_1.index)]))\n",
    "    print (\"How many transactions had one input and one output?\")\n",
    "    print (len(count_outputs_1[count_outputs_1.index.isin(count_inputs_1.index)]))"
   ]
  },
  {
   "cell_type": "code",
   "execution_count": 73,
   "metadata": {
    "scrolled": true
   },
   "outputs": [
    {
     "name": "stdout",
     "output_type": "stream",
     "text": [
      "------------------- 1.1 -------------------\n",
      "How many transactions were there in total?\n",
      "216626\n",
      "Of these, how many transactions had one input and two outputs?\n",
      "44898\n",
      "How many transactions had one input and one output?\n",
      "160780\n"
     ]
    }
   ],
   "source": [
    "answer_1_1()"
   ]
  },
  {
   "cell_type": "markdown",
   "metadata": {},
   "source": [
    "### 1.2 UTXOs"
   ]
  },
  {
   "cell_type": "code",
   "execution_count": 251,
   "metadata": {},
   "outputs": [],
   "source": [
    "def answer_1_2():\n",
    "    print (\"------------------- 1.2 -------------------\")\n",
    "    temp_outputs = outputs[['id','pk_id','value']]\n",
    "    temp_inputs = inputs['output_id']\n",
    "    UTXOs = temp_outputs[~temp_outputs['id'].isin(temp_inputs)].set_index('id')\n",
    "    print (\"How many UTXOs exist, as of the last block of the dataset?\")\n",
    "    print (len(UTXOs))\n",
    "    print (\"Which UTXO has the highest associated value?\")\n",
    "    print (\"output id:\", UTXOs.value.idxmax())\n",
    "    print (\"value:\", UTXOs.value.max())\n",
    "    return UTXOs"
   ]
  },
  {
   "cell_type": "code",
   "execution_count": 252,
   "metadata": {},
   "outputs": [
    {
     "name": "stdout",
     "output_type": "stream",
     "text": [
      "------------------- 1.2 -------------------\n",
      "How many UTXOs exist, as of the last block of the dataset?\n",
      "71906\n",
      "Which UTXO has the highest associated value?\n",
      "output id: 170430\n",
      "value: 9000000000000\n"
     ]
    }
   ],
   "source": [
    "UTXOs = answer_1_2()"
   ]
  },
  {
   "cell_type": "markdown",
   "metadata": {},
   "source": [
    "### 1.3 Public keys"
   ]
  },
  {
   "cell_type": "code",
   "execution_count": 159,
   "metadata": {},
   "outputs": [],
   "source": [
    "def answer_1_3():\n",
    "    print (\"------------------- 1.3 -------------------\")\n",
    "    print (\"How many distinct public keys were used across all blocks in the dataset?\")\n",
    "    #pk_ids = pandas.concat([outputs['pk_id'], tags['pk_id']], axis=0, ignore_index=True).unique()\n",
    "    print (len(outputs['pk_id'].unique())) #174702\n",
    "    print (\"Which public key received the highest number of bitcoins, and how many bitcoins has it received?\")\n",
    "    temp = outputs\n",
    "    temp = temp.groupby('pk_id')['value'].sum()\n",
    "    print(\"pk_id:\", temp.idxmax(), \"value:\", temp.max())\n",
    "    print (\"Which public key acted as an output the most number of times, and how many times did it act as output?\")\n",
    "    count_pk = outputs['pk_id'].value_counts()\n",
    "    print (\"pk_id:\", count_pk.idxmax(), \"value:\", count_pk.max())"
   ]
  },
  {
   "cell_type": "code",
   "execution_count": 10,
   "metadata": {
    "scrolled": true
   },
   "outputs": [
    {
     "name": "stdout",
     "output_type": "stream",
     "text": [
      "------------------- 1.3 -------------------\n",
      "How many distinct public keys were used across all blocks in the dataset?\n",
      "174702\n",
      "Which public key received the highest number of bitcoins, and how many bitcoins has it received?\n",
      "pk: 148105 value: 27375023000000\n",
      "Which public key acted as an output the most number of times, and how many times did it act as output?\n",
      "pk: 148105 value: 5498\n"
     ]
    }
   ],
   "source": [
    "answer_1_3()\n",
    "# outputs.loc[outputs['pk_id']==148105]"
   ]
  },
  {
   "cell_type": "markdown",
   "metadata": {},
   "source": [
    "### 1.4 Invalid transactions"
   ]
  },
  {
   "cell_type": "code",
   "execution_count": 11,
   "metadata": {},
   "outputs": [],
   "source": [
    "def answer_1_4():\n",
    "    print (\"------------------- 1.4 -------------------\")\n",
    "    ## double spend\n",
    "    temp_spend = inputs\n",
    "    temp_spend = temp_spend.loc[(temp_spend['output_id'].duplicated()) & (temp_spend['output_id'] != -1)]\n",
    "    i = 0\n",
    "    for _, row in temp_spend.iterrows():\n",
    "        i += 1\n",
    "        print (str(i)+\". double spend:\")\n",
    "        print (\"id:\", row.id, \"tx_id:\", row.tx_id, \"sig_id:\", row.sig_id, \"output_id:\", row.output_id)\n",
    "        print (\"spent in:\")\n",
    "        s = inputs.loc[(inputs['output_id'] == row.output_id) & (inputs['id'] != row.id)]\n",
    "        #print (\"id:\", s.id, \"tx_id:\", s.tx_id, \"sig_id:\", s.sig_id, \"output_id:\", s.output_id)\n",
    "        row = s.reset_index().loc[0]\n",
    "        print (\"id:\", row.id, \"tx_id:\", row.tx_id, \"sig_id:\", row.sig_id, \"output_id:\", row.output_id)\n",
    "        print (\"\")\n",
    "        \n",
    "    ## ouput > input\n",
    "    temp_input = inputs\n",
    "    temp_output = outputs\n",
    "    money_in = pandas.merge(temp_input[['tx_id','output_id']],temp_output[['id','value']],left_on='output_id',right_on='id')[['tx_id','value']]\n",
    "    money_in = money_in.groupby('tx_id')['value'].sum()\n",
    "    dict_money_in = {'tx_id':money_in.index,'money_in':money_in.values}\n",
    "    money_in = pandas.DataFrame(dict_money_in)\n",
    "    money_out = temp_output.groupby('tx_id')['value'].sum()\n",
    "    dict_money_out = {'tx_id':money_out.index,'money_out':money_out.values}\n",
    "    money_out = pandas.DataFrame(dict_money_out)\n",
    "    transactions = pandas.merge(money_in[['tx_id','money_in']], money_out[['tx_id','money_out']], on='tx_id')\n",
    "    invalid_tx = transactions.loc[(transactions['money_in']<transactions['money_out'])]\n",
    "    for _, row in invalid_tx.iterrows():\n",
    "        i += 1\n",
    "        print (str(i)+\". output > input:\")\n",
    "        print (\"tx_id:\", row.tx_id, \"money_in:\", row.money_in, \"money_out:\", row.money_out)\n",
    "        print (\"money_in:\")\n",
    "        j = 0\n",
    "        for _, row1 in inputs.loc[inputs['tx_id']==row.tx_id].iterrows():\n",
    "            for _, row2 in outputs.loc[outputs['id']==row1.output_id].iterrows():\n",
    "                j += 1\n",
    "                print (str(j)+\") input_id:\", row1.tx_id, \"UTXO_id:\", row1.output_id, \"owner_id:\", row1.sig_id, \"value:\",row2.value)\n",
    "        print (\"money_out:\")\n",
    "        j = 0\n",
    "        for _, row1 in outputs.loc[outputs['tx_id']==row.tx_id].iterrows():\n",
    "            j += 1\n",
    "            print (str(j)+\") output_id:\", row1.id, \"payee_id:\", row1.pk_id, \"value:\", row1.value)"
   ]
  },
  {
   "cell_type": "code",
   "execution_count": 12,
   "metadata": {},
   "outputs": [
    {
     "name": "stdout",
     "output_type": "stream",
     "text": [
      "------------------- 1.4 -------------------\n",
      "1. double spend:\n",
      "id: 12820 tx_id: 12152 sig_id: 7941 output_id: 7998\n",
      "spent in:\n",
      "id: 8666 tx_id: 8231 sig_id: 7941 output_id: 7998\n",
      "\n",
      "2. double spend:\n",
      "id: 33114 tx_id: 30446 sig_id: 21807 output_id: 21928\n",
      "spent in:\n",
      "id: 33113 tx_id: 30446 sig_id: 21807 output_id: 21928\n",
      "\n",
      "3. double spend:\n",
      "id: 76750 tx_id: 61845 sig_id: 138980 output_id: 65403\n",
      "spent in:\n",
      "id: 76747 tx_id: 61843 sig_id: 138980 output_id: 65403\n",
      "\n",
      "4. double spend:\n",
      "id: 279609 tx_id: 207365 sig_id: 163625 output_id: 249860\n",
      "spent in:\n",
      "id: 275614 tx_id: 204751 sig_id: 163625 output_id: 249860\n",
      "\n",
      "5. output > input:\n",
      "tx_id: 100929 money_in: 5000000000 money_out: 5000000010\n",
      "money_in:\n",
      "1) input_id: 100929 UTXO_id: 37553 owner_id: 37334 value: 5000000000\n",
      "money_out:\n",
      "1) output_id: 118119 payee_id: 60205 value: 2500000000\n",
      "2) output_id: 118120 payee_id: 142642 value: 2500000010\n"
     ]
    }
   ],
   "source": [
    "answer_1_4()"
   ]
  },
  {
   "cell_type": "markdown",
   "metadata": {},
   "source": [
    "## 2 Clustering\n",
    "### generate cluster dataframe"
   ]
  },
  {
   "cell_type": "code",
   "execution_count": 179,
   "metadata": {
    "scrolled": true
   },
   "outputs": [],
   "source": [
    "def cluster_entities_by_multi_input_heuristic():\n",
    "    # get unique dataframe with columns = ['tx_id','sig_id']\n",
    "    clusters = inputs.drop_duplicates(['tx_id','sig_id'])[['tx_id','sig_id']]\n",
    "    # set all sig_id to have default cluster_id = 0\n",
    "    clusters['cluster_id'] = 0\n",
    "    # init max_cluster_id = 0, max_cluster_id += 1 when assigned\n",
    "    max_cluster_id = 0\n",
    "    # init a dict to store tx_id ever appeared, key: tx_id, value: cluster_id\n",
    "    appeared_tx_id_dict = {}\n",
    "    # init a dict to store sig_id ever appeared, key: sig_id, value: cluster_id\n",
    "    appeared_sig_id_dict = {}\n",
    "    # traverse all rows\n",
    "    # 'appeared' means: it has already been assinged a cluster_id\n",
    "    # pk_id == sig_id\n",
    "    for _, row in clusters.iterrows():\n",
    "        if row.tx_id not in appeared_tx_id_dict.keys():\n",
    "            if row.sig_id in appeared_sig_id_dict.keys():\n",
    "                # if signature id appeared but not transaction id,\n",
    "                # we add {tx_id: cluster_id} to dict and set cluster_id of current row\n",
    "                appeared_tx_id_dict[row.tx_id] = appeared_sig_id_dict[row.sig_id]\n",
    "                row.cluster_id = appeared_sig_id_dict[row.sig_id]\n",
    "            else:\n",
    "                # if neither appeared,\n",
    "                # we need to check whether there were other signature appeared, in the same transaction\n",
    "                for _, row1 in clusters.loc[clusters['tx_id']==row.tx_id].iterrows():\n",
    "                    if row1.sig_id in appeared_sig_id_dict.keys():\n",
    "                        # if other signature S appeared in the same transaction,\n",
    "                        # then we set cluster_id of current row to S's cluster_id\n",
    "                        # and add {tx_id: cluster_id}, {sig_id: cluster_id} to dict respectively\n",
    "                        appeared_tx_id_dict[row.tx_id] = appeared_sig_id_dict[row1.sig_id]\n",
    "                        appeared_sig_id_dict[row.sig_id] = appeared_sig_id_dict[row1.sig_id]\n",
    "                        row.cluster_id = appeared_sig_id_dict[row1.sig_id]\n",
    "                        break\n",
    "                if row.cluster_id == 0:\n",
    "                    # if all signature id in the same transaction not appeared before,\n",
    "                    # we assign to a new cluster_id and update the dict\n",
    "                    max_cluster_id += 1\n",
    "                    appeared_tx_id_dict[row.tx_id] = max_cluster_id\n",
    "                    appeared_sig_id_dict[row.sig_id] = max_cluster_id\n",
    "                    row.cluster_id = max_cluster_id\n",
    "        else:\n",
    "            # if tx_id appeared before, set the row cluster_id to corresponding value (from the dict)\n",
    "            # and update the dict\n",
    "            row.cluster_id = appeared_tx_id_dict[row.tx_id]\n",
    "            if row.sig_id in appeared_sig_id_dict.keys():\n",
    "                pass\n",
    "            else:\n",
    "                appeared_sig_id_dict[row.sig_id] = appeared_tx_id_dict[row.tx_id]\n",
    "    return clusters"
   ]
  },
  {
   "cell_type": "code",
   "execution_count": 276,
   "metadata": {},
   "outputs": [],
   "source": [
    "clusters = cluster_entities_by_multi_input_heuristic()\n",
    "clusters.columns = ['tx_id','pk_id','cluster_id']"
   ]
  },
  {
   "cell_type": "markdown",
   "metadata": {},
   "source": [
    "### 2.1 Specific cluster"
   ]
  },
  {
   "cell_type": "code",
   "execution_count": 277,
   "metadata": {},
   "outputs": [],
   "source": [
    "def answer_2_1():\n",
    "    print (\"------------------- 2.1 -------------------\")\n",
    "    print (\"How big is the cluster that contains public key (pk_id) 41442?\")\n",
    "    cluster_id_41442 = next(clusters.loc[clusters['pk_id']==41442].iterrows())[1].cluster_id\n",
    "    print (clusters['cluster_id'].value_counts()[cluster_id_41442])\n",
    "    print (\"Identify the cluster according to its keys with the lowest and highest numeric values.\")\n",
    "    print (\"lowest pk_id:\",clusters.loc[clusters['cluster_id']==cluster_id_41442,'pk_id'].min())\n",
    "    print (\"highest pk_id:\",clusters.loc[clusters['cluster_id']==cluster_id_41442,'pk_id'].max())    "
   ]
  },
  {
   "cell_type": "code",
   "execution_count": 278,
   "metadata": {},
   "outputs": [
    {
     "name": "stdout",
     "output_type": "stream",
     "text": [
      "------------------- 2.1 -------------------\n",
      "How big is the cluster that contains public key (pk_id) 41442?\n",
      "50\n",
      "Identify the cluster according to its keys with the lowest and highest numeric values.\n",
      "lowest pk_id: 40284\n",
      "highest pk_id: 41911\n"
     ]
    }
   ],
   "source": [
    "answer_2_1()"
   ]
  },
  {
   "cell_type": "markdown",
   "metadata": {},
   "source": [
    "### 2.2 Biggest cluster"
   ]
  },
  {
   "cell_type": "code",
   "execution_count": 279,
   "metadata": {},
   "outputs": [],
   "source": [
    "def answer_2_2():\n",
    "    print (\"------------------- 2.2 -------------------\")\n",
    "    print (\"Which cluster has the largest number of keys, and how many keys does it contain?\")\n",
    "    temp = clusters.drop_duplicates('pk_id')\n",
    "    cluster_id, number_of_keys = temp['cluster_id'].value_counts().idxmax(), temp['cluster_id'].value_counts().max()\n",
    "    print (\"number of keys:\",number_of_keys)\n",
    "    print (\"Identify it according to its keys with the lowest and highest numeric values.\")\n",
    "    print (\"lowest pk_id:\",temp.loc[temp['cluster_id']==cluster_id,'pk_id'].min())\n",
    "    print (\"highest pk_id:\",temp.loc[temp['cluster_id']==cluster_id,'pk_id'].max())"
   ]
  },
  {
   "cell_type": "code",
   "execution_count": 280,
   "metadata": {},
   "outputs": [
    {
     "name": "stdout",
     "output_type": "stream",
     "text": [
      "------------------- 2.2 -------------------\n",
      "Which cluster has the largest number of keys, and how many keys does it contain?\n",
      "number of keys: 901\n",
      "Identify it according to its keys with the lowest and highest numeric values.\n",
      "lowest pk_id: 2172\n",
      "highest pk_id: 89688\n"
     ]
    }
   ],
   "source": [
    "answer_2_2()"
   ]
  },
  {
   "cell_type": "markdown",
   "metadata": {},
   "source": [
    "### 2.3 Richest cluster"
   ]
  },
  {
   "cell_type": "code",
   "execution_count": 315,
   "metadata": {},
   "outputs": [],
   "source": [
    "def answer_2_3():\n",
    "    print (\"------------------- 2.3 -------------------\")\n",
    "    print (\"As of the last block in the dataset, which cluster controls the most unspent bitcoins, and how many bitcoins does it control? Again, identify it according to its keys with the lowest and highest numeric values.\")\n",
    "    temp_clusters = pandas.merge(clusters,UTXOs[['pk_id','value']],on='pk_id')\n",
    "    temp_clusters.columns = ['tx_id','pk_id','cluster_id','UTXO']\n",
    "    temp = temp_clusters.groupby('cluster_id')['UTXO'].sum()\n",
    "    print (\"highest unspent bitcoin:\",temp.max())\n",
    "    print (\"lowest pk_id:\",clusters.loc[clusters['cluster_id']==cluster_id,'pk_id'].min())\n",
    "    print (\"highest pk_id:\",clusters.loc[clusters['cluster_id']==cluster_id,'pk_id'].max())\n",
    "    print (\"Which transaction is responsible for sending the largest number of bitcoins to this entity (i.e., to one or more of the keys in this cluster)?\")\n",
    "    temp = clusters.loc[clusters['cluster_id']==cluster_id]\n",
    "    temp = outputs[(outputs['pk_id'].isin(temp['pk_id'])&(~outputs['id'].isin(inputs['output_id'])))]['value']\n",
    "    print(temp.sum())"
   ]
  },
  {
   "cell_type": "code",
   "execution_count": 316,
   "metadata": {
    "scrolled": true
   },
   "outputs": [
    {
     "name": "stdout",
     "output_type": "stream",
     "text": [
      "------------------- 2.3 -------------------\n",
      "As of the last block in the dataset, which cluster controls the most unspent bitcoins, and how many bitcoins does it control? Again, identify it according to its keys with the lowest and highest numeric values.\n",
      "highest unspent bitcoin: 34540000000000\n",
      "lowest pk_id: 108956\n",
      "highest pk_id: 150019\n",
      "Which transaction is responsible for sending the largest number of bitcoins to this entity (i.e., to one or more of the keys in this cluster)?\n",
      "1570000000000\n"
     ]
    }
   ],
   "source": [
    "answer_2_3()"
   ]
  },
  {
   "cell_type": "code",
   "execution_count": 283,
   "metadata": {},
   "outputs": [
    {
     "ename": "KeyError",
     "evalue": "'Column not found: value'",
     "output_type": "error",
     "traceback": [
      "\u001b[0;31m---------------------------------------------------------------------------\u001b[0m",
      "\u001b[0;31mKeyError\u001b[0m                                  Traceback (most recent call last)",
      "\u001b[0;32m<ipython-input-283-7df4b2a79fe5>\u001b[0m in \u001b[0;36m<module>\u001b[0;34m\u001b[0m\n\u001b[0;32m----> 1\u001b[0;31m \u001b[0mtemp\u001b[0m \u001b[0;34m=\u001b[0m \u001b[0mclusters\u001b[0m\u001b[0;34m.\u001b[0m\u001b[0mgroupby\u001b[0m\u001b[0;34m(\u001b[0m\u001b[0;34m'cluster_id'\u001b[0m\u001b[0;34m)\u001b[0m\u001b[0;34m[\u001b[0m\u001b[0;34m'value'\u001b[0m\u001b[0;34m]\u001b[0m\u001b[0;34m.\u001b[0m\u001b[0msum\u001b[0m\u001b[0;34m(\u001b[0m\u001b[0;34m)\u001b[0m\u001b[0;34m\u001b[0m\u001b[0;34m\u001b[0m\u001b[0m\n\u001b[0m",
      "\u001b[0;32m~/anaconda3/lib/python3.7/site-packages/pandas/core/base.py\u001b[0m in \u001b[0;36m__getitem__\u001b[0;34m(self, key)\u001b[0m\n\u001b[1;32m    265\u001b[0m         \u001b[0;32melse\u001b[0m\u001b[0;34m:\u001b[0m\u001b[0;34m\u001b[0m\u001b[0;34m\u001b[0m\u001b[0m\n\u001b[1;32m    266\u001b[0m             \u001b[0;32mif\u001b[0m \u001b[0mkey\u001b[0m \u001b[0;32mnot\u001b[0m \u001b[0;32min\u001b[0m \u001b[0mself\u001b[0m\u001b[0;34m.\u001b[0m\u001b[0mobj\u001b[0m\u001b[0;34m:\u001b[0m\u001b[0;34m\u001b[0m\u001b[0;34m\u001b[0m\u001b[0m\n\u001b[0;32m--> 267\u001b[0;31m                 \u001b[0;32mraise\u001b[0m \u001b[0mKeyError\u001b[0m\u001b[0;34m(\u001b[0m\u001b[0;34m\"Column not found: {key}\"\u001b[0m\u001b[0;34m.\u001b[0m\u001b[0mformat\u001b[0m\u001b[0;34m(\u001b[0m\u001b[0mkey\u001b[0m\u001b[0;34m=\u001b[0m\u001b[0mkey\u001b[0m\u001b[0;34m)\u001b[0m\u001b[0;34m)\u001b[0m\u001b[0;34m\u001b[0m\u001b[0;34m\u001b[0m\u001b[0m\n\u001b[0m\u001b[1;32m    268\u001b[0m             \u001b[0;32mreturn\u001b[0m \u001b[0mself\u001b[0m\u001b[0;34m.\u001b[0m\u001b[0m_gotitem\u001b[0m\u001b[0;34m(\u001b[0m\u001b[0mkey\u001b[0m\u001b[0;34m,\u001b[0m \u001b[0mndim\u001b[0m\u001b[0;34m=\u001b[0m\u001b[0;36m1\u001b[0m\u001b[0;34m)\u001b[0m\u001b[0;34m\u001b[0m\u001b[0;34m\u001b[0m\u001b[0m\n\u001b[1;32m    269\u001b[0m \u001b[0;34m\u001b[0m\u001b[0m\n",
      "\u001b[0;31mKeyError\u001b[0m: 'Column not found: value'"
     ]
    }
   ],
   "source": [
    "temp = clusters.groupby('cluster_id')['value'].sum()"
   ]
  },
  {
   "cell_type": "code",
   "execution_count": 275,
   "metadata": {},
   "outputs": [
    {
     "data": {
      "text/plain": [
       "31689"
      ]
     },
     "execution_count": 275,
     "metadata": {},
     "output_type": "execute_result"
    }
   ],
   "source": [
    "temp.idxmax()"
   ]
  },
  {
   "cell_type": "code",
   "execution_count": null,
   "metadata": {},
   "outputs": [],
   "source": []
  }
 ],
 "metadata": {
  "kernelspec": {
   "display_name": "Python 3",
   "language": "python",
   "name": "python3"
  },
  "language_info": {
   "codemirror_mode": {
    "name": "ipython",
    "version": 3
   },
   "file_extension": ".py",
   "mimetype": "text/x-python",
   "name": "python",
   "nbconvert_exporter": "python",
   "pygments_lexer": "ipython3",
   "version": "3.7.1"
  }
 },
 "nbformat": 4,
 "nbformat_minor": 2
}
